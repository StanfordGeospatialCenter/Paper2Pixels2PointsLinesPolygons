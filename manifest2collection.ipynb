{
 "cells": [
  {
   "cell_type": "code",
   "execution_count": 1,
   "metadata": {},
   "outputs": [],
   "source": [
    "import csv\n",
    "import json\n",
    "import os\n",
    "import requests"
   ]
  },
  {
   "cell_type": "code",
   "execution_count": 4,
   "metadata": {},
   "outputs": [],
   "source": [
    "def fetch_manifest_data(manifest_url):\n",
    "    response = requests.get(manifest_url)\n",
    "    response.raise_for_status()\n",
    "    return response.json()\n",
    "\n",
    "def create_collection_manifest(manifest_urls, output_path):\n",
    "    collection_manifest = {\n",
    "        \"@context\": \"http://iiif.io/api/presentation/2/context.json\",\n",
    "        \"@id\": \"http://example.org/iiif/collection.json\",\n",
    "        \"@type\": \"sc:Collection\",\n",
    "        \"label\": \"Collection of IIIF Manifests\",\n",
    "        \"manifests\": []\n",
    "    }\n",
    "\n",
    "    for url in manifest_urls:\n",
    "        manifest_data = fetch_manifest_data(url)\n",
    "        manifest_id = manifest_data.get(\"@id\", manifest_data.get(\"id\"))\n",
    "        if manifest_id:\n",
    "            collection_manifest[\"manifests\"].append({\n",
    "                \"@id\": manifest_id,\n",
    "                \"@type\": \"sc:Manifest\",\n",
    "                \"label\": manifest_data.get(\"label\", \"No label\")\n",
    "            })\n",
    "        else:\n",
    "            print(f\"Warning: '@id' and 'id' not found in manifest data from {url}\")\n",
    "\n",
    "    os.makedirs(os.path.dirname(output_path), exist_ok=True)\n",
    "    with open(output_path, 'w') as f:\n",
    "        json.dump(collection_manifest, f, indent=2)\n",
    "\n",
    "def main(input_csv):\n",
    "    output_json = './output/collection.json'\n",
    "\n",
    "    manifest_urls = []\n",
    "    with open(input_csv, newline='') as csvfile:\n",
    "        reader = csv.DictReader(csvfile)\n",
    "        for row in reader:\n",
    "            manifest_urls.append(row['manifest_json'])\n",
    "\n",
    "    create_collection_manifest(manifest_urls, output_json)\n",
    "\n",
    "if __name__ == \"__main__\":\n",
    "    input_csv = '/Users/maples/GitHub/Paper2Pixels/data/collection.csv'\n",
    "    main(input_csv)"
   ]
  }
 ],
 "metadata": {
  "kernelspec": {
   "display_name": "Python 3",
   "language": "python",
   "name": "python3"
  },
  "language_info": {
   "codemirror_mode": {
    "name": "ipython",
    "version": 3
   },
   "file_extension": ".py",
   "mimetype": "text/x-python",
   "name": "python",
   "nbconvert_exporter": "python",
   "pygments_lexer": "ipython3",
   "version": "3.11.8"
  }
 },
 "nbformat": 4,
 "nbformat_minor": 2
}
